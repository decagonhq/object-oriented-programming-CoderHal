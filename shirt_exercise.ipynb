{
  "nbformat": 4,
  "nbformat_minor": 0,
  "metadata": {
    "kernelspec": {
      "display_name": "Python 3",
      "language": "python",
      "name": "python3"
    },
    "language_info": {
      "codemirror_mode": {
        "name": "ipython",
        "version": 3
      },
      "file_extension": ".py",
      "mimetype": "text/x-python",
      "name": "python",
      "nbconvert_exporter": "python",
      "pygments_lexer": "ipython3",
      "version": "3.6.3"
    },
    "colab": {
      "name": "shirt_exercise.ipynb",
      "provenance": [],
      "include_colab_link": true
    }
  },
  "cells": [
    {
      "cell_type": "markdown",
      "metadata": {
        "id": "view-in-github",
        "colab_type": "text"
      },
      "source": [
        "<a href=\"https://colab.research.google.com/github/johnanisere/object_oriented_programming/blob/solution/shirt_exercise.ipynb\" target=\"_parent\"><img src=\"https://colab.research.google.com/assets/colab-badge.svg\" alt=\"Open In Colab\"/></a>"
      ]
    },
    {
      "cell_type": "markdown",
      "metadata": {
        "id": "rI9_UNucl-vn",
        "colab_type": "text"
      },
      "source": [
        "# Use the Shirt Class\n",
        "\n",
        "You've seen what a class looks like and how to instantiate an object. Now it's your turn to write code that insantiates a shirt object.\n",
        "\n",
        "# Your Task\n",
        "\n",
        "Fill out the TODOs in each section of the Jupyter notebook. You can find a solution in the answer.py file.\n",
        "\n",
        "First, run this code cell below to load the Shirt class."
      ]
    },
    {
      "cell_type": "code",
      "metadata": {
        "id": "dhs0ikkrl-vo",
        "colab_type": "code",
        "colab": {}
      },
      "source": [
        "class Shirt:\n",
        "\n",
        "    def __init__(self, shirt_color, shirt_size, shirt_style, shirt_price):\n",
        "        self.color = shirt_color\n",
        "        self.size = shirt_size\n",
        "        self.style = shirt_style\n",
        "        self.price = shirt_price\n",
        "    \n",
        "    def change_price(self, new_price):\n",
        "    \n",
        "        self.price = new_price\n",
        "        \n",
        "    def discount(self, discount):\n",
        "\n",
        "        return self.price * (1 - discount)"
      ],
      "execution_count": 0,
      "outputs": []
    },
    {
      "cell_type": "code",
      "metadata": {
        "id": "4nQSscAol-vq",
        "colab_type": "code",
        "colab": {}
      },
      "source": [
        "shirt_one=Shirt(\"red\",\"S\",\"long-sleeve\",25)"
      ],
      "execution_count": 0,
      "outputs": []
    },
    {
      "cell_type": "code",
      "metadata": {
        "id": "qhfUw5WEl-vs",
        "colab_type": "code",
        "colab": {
          "base_uri": "https://localhost:8080/",
          "height": 68
        },
        "outputId": "7fa4acef-6aa4-4703-9e1e-e0ad38c92294"
      },
      "source": [
        "print(shirt_one.price)\n",
        "shirt_one.change_price(10)\n",
        "print(shirt_one.price)\n",
        "shirt_one.discount(0.12)"
      ],
      "execution_count": 15,
      "outputs": [
        {
          "output_type": "stream",
          "text": [
            "10\n",
            "10\n"
          ],
          "name": "stdout"
        },
        {
          "output_type": "execute_result",
          "data": {
            "text/plain": [
              "8.8"
            ]
          },
          "metadata": {
            "tags": []
          },
          "execution_count": 15
        }
      ]
    },
    {
      "cell_type": "code",
      "metadata": {
        "id": "GC3rEsW7l-vv",
        "colab_type": "code",
        "colab": {}
      },
      "source": [
        "shirt_two=Shirt(\"orange\",\"L\",\"short-sleeve\",10)"
      ],
      "execution_count": 0,
      "outputs": []
    },
    {
      "cell_type": "code",
      "metadata": {
        "id": "3DG6n2Trl-vx",
        "colab_type": "code",
        "colab": {}
      },
      "source": [
        "total=shirt_one.price+shirt_two.price"
      ],
      "execution_count": 0,
      "outputs": []
    },
    {
      "cell_type": "code",
      "metadata": {
        "id": "4swfe62gl-vz",
        "colab_type": "code",
        "colab": {}
      },
      "source": [
        "total_discount = shirt_one.discount(0.14) + shirt_two.discount(0.06)\n"
      ],
      "execution_count": 0,
      "outputs": []
    },
    {
      "cell_type": "markdown",
      "metadata": {
        "id": "BmK6-29-l-v1",
        "colab_type": "text"
      },
      "source": [
        "# Test your Code\n",
        "\n",
        "\n",
        "The following code cell tests your code. \n",
        "\n",
        "There is a file called tests.py containing a function called run_tests(). The run_tests() function executes a handful of assert statements to check your work. You can see this file if you go to the Jupyter Notebook menu and click on \"File->Open\" and then open the tests.py file.\n",
        "\n",
        "Execute the next code cell. The code will produce an error if your answers in this exercise are not what was expected. Keep working on your code until all tests are passing.\n",
        "\n",
        "If you run the code cell and there is no output, then you passed all the tests!\n",
        "\n",
        "As mentioned previously, there's also a file with a solution. To find the solution, click on the Jupyter logo at the top of the workspace, and then enter the folder titled 1.OOP_syntax_shirt_practice"
      ]
    },
    {
      "cell_type": "code",
      "metadata": {
        "id": "uQffMa5BmSIC",
        "colab_type": "code",
        "colab": {}
      },
      "source": [
        "def run_tests(shirt_one, shirt_two, total_cost, total_discount):\n",
        " \n",
        "    # Unit tests to check your solution\n",
        "    assert shirt_one.price == 10, 'shirt_one price should be 10'\n",
        "    assert shirt_one.color == 'red', ' shirt_one should be red'\n",
        "    assert shirt_one.style == 'long-sleeve', 'shirt_one should be long_sleeve style'\n",
        "    assert shirt_one.size == 'S', 'shirt_one size should be S'\n",
        "\n",
        "    assert shirt_two.price == 10, 'shirt_two price should be 10'\n",
        "    assert shirt_two.color == 'orange', 'shirt_two should be orange'\n",
        "    assert shirt_two.style == 'short-sleeve', 'shirt_two should be short_sleeve style'\n",
        "    assert shirt_two.size == 'L', 'shirt_two size should be L'\n",
        "\n",
        "    assert total_cost == 20, 'the total_cost of both shirts should be 20'\n",
        "    \n",
        "    assert round(total_discount) == 18, 'total_discount should be 18.0'"
      ],
      "execution_count": 0,
      "outputs": []
    },
    {
      "cell_type": "code",
      "metadata": {
        "id": "XY5yQRG9l-v2",
        "colab_type": "code",
        "colab": {}
      },
      "source": [
        "# Unit tests to check your solution\n",
        "\n",
        "run_tests(shirt_one, shirt_two, total, total_discount)"
      ],
      "execution_count": 0,
      "outputs": []
    },
    {
      "cell_type": "code",
      "metadata": {
        "id": "wTrQDcmWl-v4",
        "colab_type": "code",
        "colab": {}
      },
      "source": [
        ""
      ],
      "execution_count": 0,
      "outputs": []
    }
  ]
}